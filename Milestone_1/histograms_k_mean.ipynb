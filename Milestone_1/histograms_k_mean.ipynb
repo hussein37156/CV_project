{
 "cells": [
  {
   "cell_type": "code",
   "execution_count": 1,
   "metadata": {},
   "outputs": [],
   "source": [
    "import cv2 as cv\n",
    "import numpy as np\n",
    "import matplotlib.pyplot as plt\n",
    "from scipy.stats import mode\n",
    "import time"
   ]
  },
  {
   "cell_type": "code",
   "execution_count": 2,
   "metadata": {},
   "outputs": [],
   "source": [
    "image_train=np.load(\"image_train.npy\")\n",
    "label_train=np.load(\"label_train.npy\")\n",
    "image_test=np.load(\"image_test.npy\")\n",
    "label_test=np.load(\"label_test.npy\")"
   ]
  },
  {
   "cell_type": "code",
   "execution_count": 3,
   "metadata": {},
   "outputs": [
    {
     "data": {
      "image/png": "[encoded data removed]",
      "text/plain": [
       "<Figure size 640x480 with 1 Axes>"
      ]
     },
     "metadata": {},
     "output_type": "display_data"
    }
   ],
   "source": [
    "train_b_HG=[]\n",
    "train_g_HG=[]\n",
    "train_r_HG=[]\n",
    "test_b_HG=[]\n",
    "test_g_HG=[]\n",
    "test_r_HG=[]\n",
    "\n",
    "div=24\n",
    "for image in image_train:\n",
    "    image_np = np.array(image)\n",
    "    train_b_HG.append(cv.calcHist([image_np], [2], None, [div], [0, 255]))\n",
    "    train_g_HG.append(cv.calcHist([image_np], [1], None, [div], [0, 255]))\n",
    "    train_r_HG.append(cv.calcHist([image_np], [0], None, [div], [0, 255]))\n",
    "\n",
    "for image in image_test:\n",
    "    image_np = np.array(image)\n",
    "    test_b_HG.append(cv.calcHist([image_np], [2], None, [div], [0, 255]))\n",
    "    test_g_HG.append(cv.calcHist([image_np], [1], None, [div], [0, 255]))\n",
    "    test_r_HG.append(cv.calcHist([image_np], [0], None, [div], [0, 255]))\n",
    "\n",
    "\n",
    "train_histograms = [\n",
    "    np.concatenate((b.flatten(), g.flatten(), r.flatten()))\n",
    "    for b, g, r in zip(train_b_HG, train_g_HG, train_r_HG)\n",
    "]\n",
    "test_histograms = [\n",
    "    np.concatenate((b.flatten(), g.flatten(), r.flatten()))\n",
    "    for b, g, r in zip(test_b_HG, test_g_HG, test_r_HG)\n",
    "]\n",
    "\n",
    "train_histograms = np.array(train_histograms)\n",
    "test_histograms = np.array(test_histograms)\n",
    "\n",
    "\n",
    "plt.xlim([0, div])\n",
    "img_num = 50\n",
    "\n",
    "\n",
    "# Plot histogram as usual bars\n",
    "plt.bar(range(len(train_b_HG[img_num])), train_b_HG[img_num].flatten(), color='b', alpha=0.5, label='Blue')\n",
    "plt.bar(range(len(train_g_HG[img_num])), train_g_HG[img_num].flatten(), color='g', alpha=0.5, label='Green')\n",
    "plt.bar(range(len(train_r_HG[img_num])), train_r_HG[img_num].flatten(), color='r', alpha=0.5, label='Red')\n",
    "plt.title('Color Histogram as Bars')\n",
    "plt.xlabel('Bins')\n",
    "plt.ylabel('Frequency')\n",
    "plt.legend()\n",
    "plt.show()\n"
   ]
  },
  {
   "cell_type": "code",
   "execution_count": 4,
   "metadata": {},
   "outputs": [
    {
     "name": "stdout",
     "output_type": "stream",
     "text": [
      "(70491, 144)\n",
      "(23619, 144)\n"
     ]
    }
   ],
   "source": [
    "train_histograms_squr = np.sqrt(train_histograms) #adding nonlinearity to the data\n",
    "test_histograms_squr = np.sqrt(test_histograms)\n",
    "\n",
    "train_histograms=np.concatenate((train_histograms,train_histograms_squr),axis=1)\n",
    "test_histograms=np.concatenate((test_histograms,test_histograms_squr),axis=1)\n",
    "\n",
    "\n",
    "all_data=np.concatenate((train_histograms,test_histograms),axis=0)\n",
    "mean=np.mean(all_data,axis=0)\n",
    "std=np.std(all_data,axis=0)\n",
    "\n",
    "train_histograms=(train_histograms-mean)/std\n",
    "test_histograms=(test_histograms-mean)/std\n",
    "\n",
    "\n",
    "print(train_histograms.shape)\n",
    "print(test_histograms.shape)\n"
   ]
  },
  {
   "cell_type": "code",
   "execution_count": null,
   "metadata": {},
   "outputs": [],
   "source": [
    "def k_means(data, k, max_iters=10000, tol=1e-5):\n",
    "    \n",
    "    n_samples, _ = data.shape\n",
    "    centroids = data[np.random.choice(n_samples, k, replace=False)]\n",
    "    \n",
    "    for i in range(max_iters):\n",
    "        distances = np.linalg.norm(data[:, None, :] - centroids[None, :, :], axis=2)\n",
    "        labels = np.argmin(distances, axis=1)\n",
    "        \n",
    "        new_centroids = np.array([data[labels == i].mean(axis=0) for i in range(k)])\n",
    "        error=np.linalg.norm(new_centroids - centroids)\n",
    "\n",
    "        if error < tol:\n",
    "            print(error)\n",
    "            break\n",
    "        \n",
    "        centroids = new_centroids\n",
    "\n",
    "    return labels, centroids\n",
    "\n",
    "\n",
    "def calculate_cluster_labels(labels_train, label_train, k):\n",
    "    cluster_labels = np.empty(k, dtype=object)  # Use dtype=object for non-numeric labels\n",
    "\n",
    "    for i in range(k):\n",
    "        cluster_indices = np.where(labels_train == i)[0]\n",
    "        true_labels = label_train[cluster_indices].flatten()\n",
    "\n",
    "        if len(true_labels) > 0: \n",
    "            unique_labels, counts = np.unique(true_labels, return_counts=True)\n",
    "            cluster_labels[i] = unique_labels[np.argmax(counts)]\n",
    "\n",
    "    # Map each data point's cluster to its corresponding label\n",
    "    predicted_labels = np.array([cluster_labels[label] for label in labels_train])\n",
    "\n",
    "    # Calculate accuracy\n",
    "    accuracy = np.mean(predicted_labels.flatten() == label_train.flatten())\n",
    "    \n",
    "    return cluster_labels, predicted_labels, accuracy\n",
    "\n",
    "def predict(test_data, centroids):\n",
    "    distances = np.linalg.norm(test_data[:, None, :] - centroids[None, :, :], axis=2)\n",
    "    return np.argmin(distances, axis=1)\n"
   ]
  },
  {
   "cell_type": "code",
   "execution_count": 6,
   "metadata": {},
   "outputs": [
    {
     "name": "stdout",
     "output_type": "stream",
     "text": [
      "Iteration 1/10000\n",
      "Elapsed time: 63.35855293273926 seconds\n",
      "Iteration 2/10000\n",
      "Elapsed time: 7.131159543991089 seconds\n",
      "Iteration 3/10000\n",
      "Elapsed time: 6.087530136108398 seconds\n",
      "Iteration 4/10000\n",
      "Elapsed time: 5.603918552398682 seconds\n",
      "Iteration 5/10000\n",
      "Elapsed time: 5.498899221420288 seconds\n",
      "Iteration 6/10000\n",
      "Elapsed time: 5.484356164932251 seconds\n",
      "Iteration 7/10000\n",
      "Elapsed time: 5.346824884414673 seconds\n",
      "Iteration 8/10000\n",
      "Elapsed time: 5.1870317459106445 seconds\n",
      "Iteration 9/10000\n",
      "Elapsed time: 5.709149122238159 seconds\n",
      "Iteration 10/10000\n",
      "Elapsed time: 5.45223069190979 seconds\n",
      "Iteration 11/10000\n",
      "Elapsed time: 5.391238689422607 seconds\n",
      "Iteration 12/10000\n",
      "Elapsed time: 5.35397744178772 seconds\n",
      "Iteration 13/10000\n",
      "Elapsed time: 5.406529664993286 seconds\n",
      "Iteration 14/10000\n",
      "Elapsed time: 5.317023038864136 seconds\n",
      "Iteration 15/10000\n",
      "Elapsed time: 5.261552095413208 seconds\n",
      "Iteration 16/10000\n",
      "Elapsed time: 5.1322996616363525 seconds\n",
      "Iteration 17/10000\n",
      "Elapsed time: 5.207324504852295 seconds\n",
      "Iteration 18/10000\n",
      "Elapsed time: 5.255598306655884 seconds\n",
      "Iteration 19/10000\n",
      "Elapsed time: 5.44882869720459 seconds\n",
      "Iteration 20/10000\n",
      "Elapsed time: 5.214539289474487 seconds\n",
      "Iteration 21/10000\n",
      "Elapsed time: 5.37515926361084 seconds\n",
      "Iteration 22/10000\n",
      "Elapsed time: 5.756881237030029 seconds\n",
      "Iteration 23/10000\n",
      "Elapsed time: 5.589618921279907 seconds\n",
      "Iteration 24/10000\n",
      "Elapsed time: 5.549597263336182 seconds\n",
      "Iteration 25/10000\n",
      "Elapsed time: 5.426544427871704 seconds\n",
      "Iteration 26/10000\n",
      "Elapsed time: 5.563416957855225 seconds\n",
      "Iteration 27/10000\n",
      "Elapsed time: 5.446868181228638 seconds\n",
      "Iteration 28/10000\n",
      "Elapsed time: 5.257738828659058 seconds\n",
      "Iteration 29/10000\n",
      "Elapsed time: 5.431429624557495 seconds\n",
      "Iteration 30/10000\n",
      "Elapsed time: 6.114217281341553 seconds\n",
      "Iteration 31/10000\n",
      "Elapsed time: 5.473288536071777 seconds\n",
      "0.0\n"
     ]
    }
   ],
   "source": [
    "# Run K-Means clustering on the training histograms\n",
    "k = 141  # Number of clusters\n",
    "labels_train, centroids = k_means(train_histograms, k)"
   ]
  },
  {
   "cell_type": "code",
   "execution_count": 18,
   "metadata": {},
   "outputs": [
    {
     "name": "stdout",
     "output_type": "stream",
     "text": [
      "Accuracy: 75.90%\n"
     ]
    }
   ],
   "source": [
    "\n",
    "cluster_labels, predicted_labels, accuracy = calculate_cluster_labels(labels_train, label_train, k)\n",
    "print(f'Accuracy: {accuracy * 100:.2f}%')"
   ]
  },
  {
   "cell_type": "code",
   "execution_count": 19,
   "metadata": {},
   "outputs": [
    {
     "name": "stdout",
     "output_type": "stream",
     "text": [
      "['Hazelnut 1']\n",
      "Hazelnut 1\n"
     ]
    }
   ],
   "source": [
    "\n",
    "example = 9811\n",
    "\n",
    "labels_test = predict(test_histograms[example].reshape(1, -1), centroids)\n",
    "\n",
    "predicted_labels = np.array([cluster_labels[label] for label in labels_test])\n",
    "\n",
    "print(predicted_labels)\n",
    "print(label_test[example])"
   ]
  }
 ],
 "metadata": {
  "kernelspec": {
   "display_name": "Python 3",
   "language": "python",
   "name": "python3"
  },
  "language_info": {
   "codemirror_mode": {
    "name": "ipython",
    "version": 3
   },
   "file_extension": ".py",
   "mimetype": "text/x-python",
   "name": "python",
   "nbconvert_exporter": "python",
   "pygments_lexer": "ipython3",
   "version": "3.10.0"
  }
 },
 "nbformat": 4,
 "nbformat_minor": 2
}
