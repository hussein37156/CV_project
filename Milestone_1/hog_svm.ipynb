{
 "cells": [
  {
   "cell_type": "code",
   "execution_count": 1,
   "metadata": {},
   "outputs": [],
   "source": [
    "import tensorflow as tf\n",
    "from tensorflow import keras\n",
    "from keras.datasets import cifar100\n",
    "import time\n",
    "import numpy as np\n",
    "import cv2 as cv\n",
    "from sklearn.svm import SVC\n",
    "from sklearn.metrics import accuracy_score"
   ]
  },
  {
   "cell_type": "code",
   "execution_count": 2,
   "metadata": {},
   "outputs": [],
   "source": [
    "(x_train, y_train), (x_test, y_test) = cifar100.load_data()"
   ]
  },
  {
   "cell_type": "code",
   "execution_count": 3,
   "metadata": {},
   "outputs": [],
   "source": [
    "images_train = []\n",
    "images_test = []\n",
    "\n",
    "for i in range(0, 50000):\n",
    "    image = x_train[i, :, :, :]  # Original image\n",
    "    image = cv.resize(image, (128, 128))  # Resize using OpenCV\n",
    "    images_train.append(image)\n",
    "\n",
    "for i in range(0, 10000):\n",
    "    image = x_test[i, :, :, :]  # Original image\n",
    "    image = cv.resize(image, (128, 128))  # Resize using OpenCV\n",
    "    images_test.append(image)"
   ]
  },
  {
   "cell_type": "code",
   "execution_count": 4,
   "metadata": {},
   "outputs": [],
   "source": [
    "hog_features_train = []\n",
    "hog_features_test = []\n",
    "\n",
    "hog = cv.HOGDescriptor(_winSize=(128, 128), _blockSize=(16, 16), _blockStride=(8, 8), _cellSize=(8, 8), _nbins=9)\n",
    "\n",
    "\n",
    "for image in images_train:\n",
    "    gray_image = cv.cvtColor(image, cv.COLOR_RGB2GRAY)\n",
    "    features = hog.compute(gray_image)\n",
    "    hog_features_train.append(features)\n",
    "\n",
    "for image in images_test:\n",
    "    gray_image = cv.cvtColor(image, cv.COLOR_RGB2GRAY)\n",
    "    features = hog.compute(gray_image)\n",
    "    hog_features_test.append(features)\n"
   ]
  },
  {
   "cell_type": "code",
   "execution_count": 5,
   "metadata": {},
   "outputs": [],
   "source": [
    "hog_features_train = np.array(hog_features_train)\n",
    "hog_features_test = np.array(hog_features_test)\n",
    "\n",
    "hog=np.concatenate((hog_features_train, hog_features_test), axis=0)\n",
    "\n",
    "mean = np.mean(hog, axis=0)\n",
    "std = np.std(hog, axis=0)\n",
    "\n",
    "hog_features_test = (hog_features_test - mean) / std\n",
    "hog_features_train = (hog_features_train - mean) / std\n",
    "\n",
    "\n",
    "y_train = y_train.flatten()  # Flatten the target labels\n",
    "y_test = y_test.flatten()"
   ]
  },
  {
   "cell_type": "code",
   "execution_count": null,
   "metadata": {},
   "outputs": [
    {
     "name": "stdout",
     "output_type": "stream",
     "text": [
      "Accuracy of SVM classifier: 22.31%\n"
     ]
    }
   ],
   "source": [
    "\n",
    "\n",
    "# Train SVM classifier\n",
    "model = SVC(kernel='linear', C=1)  # Use a linear kernel\n",
    "model.fit(hog_features_train, y_train)\n",
    "\n",
    "# Predict on test data\n",
    "y_pred = model.predict(hog_features_test)\n",
    "\n",
    "# Calculate accuracy\n",
    "accuracy = accuracy_score(y_test, y_pred)\n",
    "print(f\"Accuracy of SVM classifier: {accuracy * 100:.2f}%\")"
   ]
  },
  {
   "cell_type": "code",
   "execution_count": 8,
   "metadata": {},
   "outputs": [
    {
     "data": {
      "text/plain": [
       "['hog_svm.pkl']"
      ]
     },
     "execution_count": 8,
     "metadata": {},
     "output_type": "execute_result"
    }
   ],
   "source": [
    "import joblib\n",
    "\n",
    "# Save the model to a file\n",
    "joblib.dump(model, 'hog_svm.pkl')"
   ]
  }
 ],
 "metadata": {
  "kernelspec": {
   "display_name": "Python 3",
   "language": "python",
   "name": "python3"
  },
  "language_info": {
   "codemirror_mode": {
    "name": "ipython",
    "version": 3
   },
   "file_extension": ".py",
   "mimetype": "text/x-python",
   "name": "python",
   "nbconvert_exporter": "python",
   "pygments_lexer": "ipython3",
   "version": "3.10.0"
  }
 },
 "nbformat": 4,
 "nbformat_minor": 2
}
