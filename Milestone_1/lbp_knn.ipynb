{
 "cells": [
  {
   "cell_type": "code",
   "execution_count": 1,
   "metadata": {},
   "outputs": [],
   "source": [
    "import cv2 as cv\n",
    "import numpy as np\n",
    "import time\n",
    "from skimage.feature import local_binary_pattern\n",
    "from scipy.stats import mode"
   ]
  },
  {
   "cell_type": "code",
   "execution_count": 2,
   "metadata": {},
   "outputs": [],
   "source": [
    "image_train=np.load(\"E:/1-Collage/3-Senior-2/CV/Project/data_set/image_train.npy\")\n",
    "label_train=np.load(\"E:/1-Collage/3-Senior-2/CV/Project/data_set/label_train.npy\")\n",
    "image_test=np.load(\"E:/1-Collage/3-Senior-2/CV/Project/data_set/image_test.npy\")\n",
    "label_test=np.load(\"E:/1-Collage/3-Senior-2/CV/Project/data_set/label_test.npy\")"
   ]
  },
  {
   "cell_type": "code",
   "execution_count": 3,
   "metadata": {},
   "outputs": [],
   "source": [
    "radius = 1\n",
    "n_points = 8 * radius\n",
    "method = 'uniform'\n",
    "\n",
    "# Shuffle the training data and labels\n",
    "indices = np.arange(len(image_train))\n",
    "np.random.shuffle(indices)\n",
    "image_train = image_train[indices]\n",
    "label_train = label_train[indices]\n",
    "\n",
    "# Shuffle the test data and labels\n",
    "indices = np.arange(len(image_test))\n",
    "np.random.shuffle(indices)\n",
    "image_test = image_test[indices]\n",
    "label_test = label_test[indices]\n",
    "\n",
    "\n",
    "LBP_train = [\n",
    "    local_binary_pattern(cv.cvtColor(img, cv.COLOR_RGB2GRAY), n_points, radius, method)\n",
    "    for img in image_train\n",
    "]\n",
    "LBP_test = [\n",
    "    local_binary_pattern(cv.cvtColor(img, cv.COLOR_RGB2GRAY), n_points, radius, method)\n",
    "    for img in image_test\n",
    "]"
   ]
  },
  {
   "cell_type": "code",
   "execution_count": 4,
   "metadata": {},
   "outputs": [],
   "source": [
    "n_bins = n_points + 2\n",
    "LBP_train_histogram = np.array([\n",
    "    cv.calcHist([lbp.astype('float32')], [0], None, [n_bins], [0, n_bins]).flatten()\n",
    "    for lbp in LBP_train\n",
    "])\n",
    "LBP_test_histogram = np.array([\n",
    "    cv.calcHist([lbp.astype('float32')], [0], None, [n_bins], [0, n_bins]).flatten()\n",
    "    for lbp in LBP_test\n",
    "])\n",
    "\n",
    "LBP_all=np.concatenate((LBP_train_histogram,LBP_test_histogram),axis=0)\n",
    "mean = np.mean(LBP_all, axis=0)\n",
    "std = np.std(LBP_all, axis=0)\n",
    "\n",
    "LBP_train_histogram = (LBP_train_histogram - mean) / std\n",
    "LBP_test_histogram = (LBP_test_histogram - mean) / std\n",
    "\n",
    "\n",
    "y_train = label_train.flatten()\n",
    "y_test = label_test.flatten()"
   ]
  },
  {
   "cell_type": "code",
   "execution_count": 12,
   "metadata": {},
   "outputs": [
    {
     "name": "stdout",
     "output_type": "stream",
     "text": [
      "Accuracy: 60.34%\n"
     ]
    }
   ],
   "source": [
    "def knn_predict(X_train, y_train, X_test, k=3):\n",
    "    predictions = []\n",
    "    for x_test in X_test:\n",
    "        # Compute distances to all training points\n",
    "        distances = np.linalg.norm(X_train - x_test, axis=1)\n",
    "\n",
    "        # Find the k nearest neighbors\n",
    "        k_indices = np.argsort(distances)[:k]\n",
    "        k_labels = y_train[k_indices]\n",
    "\n",
    "        # Determine the most common label\n",
    "        unique_labels, counts = np.unique(k_labels, return_counts=True)\n",
    "        most_common = unique_labels[np.argmax(counts)]\n",
    "        \n",
    "        predictions.append(most_common)\n",
    "\n",
    "    return np.array(predictions)\n",
    "\n",
    "\n",
    "\n",
    "y_pred = knn_predict(LBP_train_histogram, y_train, LBP_test_histogram, k=3)  # Use a subset of test data for speed\n",
    "\n",
    "accuracy = np.mean(y_pred == y_test)  # Match the subset size\n",
    "print(f\"Accuracy: {accuracy * 100:.2f}%\")"
   ]
  },
  {
   "cell_type": "code",
   "execution_count": null,
   "metadata": {},
   "outputs": [],
   "source": [
    "point=12250\n",
    "print(f\"Prediction: {y_pred[point]}\")\n",
    "print(f\"Prediction: {y_test[point]}\")"
   ]
  },
  {
   "cell_type": "code",
   "execution_count": 11,
   "metadata": {},
   "outputs": [
    {
     "name": "stdout",
     "output_type": "stream",
     "text": [
      "Accuracy: 60.34%\n"
     ]
    }
   ],
   "source": [
    "from sklearn.neighbors import KNeighborsClassifier\n",
    "from sklearn.metrics import accuracy_score\n",
    "from skimage.feature import local_binary_pattern\n",
    "\n",
    "# Train k-NN\n",
    "knn = KNeighborsClassifier(n_neighbors=3, metric='euclidean')\n",
    "knn.fit(LBP_train_histogram, y_train)\n",
    "\n",
    "# Predict and evaluate\n",
    "y_pred = knn.predict(LBP_test_histogram)\n",
    "accuracy = accuracy_score(y_test, y_pred)\n",
    "\n",
    "print(f\"Accuracy: {accuracy * 100:.2f}%\")\n"
   ]
  },
  {
   "cell_type": "code",
   "execution_count": null,
   "metadata": {},
   "outputs": [],
   "source": []
  }
 ],
 "metadata": {
  "kernelspec": {
   "display_name": "Python 3",
   "language": "python",
   "name": "python3"
  },
  "language_info": {
   "codemirror_mode": {
    "name": "ipython",
    "version": 3
   },
   "file_extension": ".py",
   "mimetype": "text/x-python",
   "name": "python",
   "nbconvert_exporter": "python",
   "pygments_lexer": "ipython3",
   "version": "3.10.0"
  }
 },
 "nbformat": 4,
 "nbformat_minor": 2
}
