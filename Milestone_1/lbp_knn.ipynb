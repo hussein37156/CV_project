{
 "cells": [
  {
   "cell_type": "code",
   "execution_count": 1,
   "metadata": {},
   "outputs": [],
   "source": [
    "import cv2 as cv\n",
    "import numpy as np\n",
    "import time\n",
    "from skimage.feature import local_binary_pattern\n",
    "from scipy.stats import mode"
   ]
  },
  {
   "cell_type": "code",
   "execution_count": 2,
   "metadata": {},
   "outputs": [],
   "source": [
    "image_train=np.load(\"E:/1-Collage/3-Senior-2/CV/Project/data_set/image_train.npy\")\n",
    "label_train=np.load(\"E:/1-Collage/3-Senior-2/CV/Project/data_set/label_train.npy\")\n",
    "image_test=np.load(\"E:/1-Collage/3-Senior-2/CV/Project/data_set/image_test.npy\")\n",
    "label_test=np.load(\"E:/1-Collage/3-Senior-2/CV/Project/data_set/label_test.npy\")"
   ]
  },
  {
   "cell_type": "code",
   "execution_count": 3,
   "metadata": {},
   "outputs": [],
   "source": [
    "radius = 1\n",
    "n_points = 8 * radius\n",
    "method = 'uniform'\n",
    "\n",
    "# Shuffle the training data and labels\n",
    "indices = np.arange(len(image_train))\n",
    "np.random.shuffle(indices)\n",
    "image_train = image_train[indices]\n",
    "label_train = label_train[indices]\n",
    "\n",
    "# Shuffle the test data and labels\n",
    "indices = np.arange(len(image_test))\n",
    "np.random.shuffle(indices)\n",
    "image_test = image_test[indices]\n",
    "label_test = label_test[indices]\n",
    "\n",
    "\n",
    "LBP_train = [\n",
    "    local_binary_pattern(cv.cvtColor(img, cv.COLOR_RGB2GRAY), n_points, radius, method)\n",
    "    for img in image_train\n",
    "]\n",
    "LBP_test = [\n",
    "    local_binary_pattern(cv.cvtColor(img, cv.COLOR_RGB2GRAY), n_points, radius, method)\n",
    "    for img in image_test\n",
    "]"
   ]
  },
  {
   "cell_type": "code",
   "execution_count": 5,
   "metadata": {},
   "outputs": [],
   "source": [
    "n_bins = n_points + 2\n",
    "LBP_train_histogram = np.array([\n",
    "    cv.calcHist([lbp.astype('float32')], [0], None, [n_bins], [0, n_bins]).flatten()\n",
    "    for lbp in LBP_train\n",
    "])\n",
    "LBP_test_histogram = np.array([\n",
    "    cv.calcHist([lbp.astype('float32')], [0], None, [n_bins], [0, n_bins]).flatten()\n",
    "    for lbp in LBP_test\n",
    "])\n",
    "\n",
    "LBP_all=np.concatenate((LBP_train_histogram,LBP_test_histogram),axis=0)\n",
    "mean = np.mean(LBP_all, axis=0)\n",
    "std = np.std(LBP_all, axis=0)\n",
    "\n",
    "LBP_train_histogram = (LBP_train_histogram - mean) / std\n",
    "LBP_test_histogram = (LBP_test_histogram - mean) / std\n",
    "\n",
    "\n",
    "y_train = label_train.flatten()\n",
    "y_test = label_test.flatten()"
   ]
  },
  {
   "cell_type": "code",
   "execution_count": 8,
   "metadata": {},
   "outputs": [],
   "source": [
    "def knn_predict(X_train, y_train, X_test, k=3):\n",
    "    predictions = []\n",
    "    for x_test in X_test:\n",
    "        # Compute distances to all training points\n",
    "        distances = np.linalg.norm(X_train - x_test, axis=1)\n",
    "\n",
    "        # Find the k nearest neighbors\n",
    "        k_indices = np.argsort(distances)[:k]\n",
    "        k_labels = y_train[k_indices]\n",
    "\n",
    "        # Determine the most common label\n",
    "        unique_labels, counts = np.unique(k_labels, return_counts=True)\n",
    "        most_common = unique_labels[np.argmax(counts)]\n",
    "        \n",
    "        predictions.append(most_common)\n",
    "\n",
    "    return np.array(predictions)\n",
    "\n",
    "\n",
    "\n"
   ]
  },
  {
   "cell_type": "code",
   "execution_count": 9,
   "metadata": {},
   "outputs": [
    {
     "name": "stdout",
     "output_type": "stream",
     "text": [
      "Accuracy: 60.34%\n"
     ]
    }
   ],
   "source": [
    "y_pred = knn_predict(LBP_train_histogram, y_train, LBP_test_histogram, k=3)  # Use a subset of test data for speed\n",
    "\n",
    "accuracy = np.mean(y_pred == y_test)  # Match the subset size\n",
    "print(f\"Accuracy: {accuracy * 100:.2f}%\")"
   ]
  },
  {
   "cell_type": "code",
   "execution_count": null,
   "metadata": {},
   "outputs": [],
   "source": [
    "point=12250\n",
    "print(f\"Prediction: {y_pred[point]}\")\n",
    "print(f\"Prediction: {y_test[point]}\")"
   ]
  },
  {
   "cell_type": "code",
   "execution_count": 6,
   "metadata": {},
   "outputs": [
    {
     "name": "stdout",
     "output_type": "stream",
     "text": [
      "Accuracy: 60.34%\n"
     ]
    }
   ],
   "source": [
    "from sklearn.neighbors import KNeighborsClassifier\n",
    "from sklearn.metrics import accuracy_score\n",
    "from skimage.feature import local_binary_pattern\n",
    "\n",
    "# Train k-NN\n",
    "knn = KNeighborsClassifier(n_neighbors=3, metric='euclidean')\n",
    "knn.fit(LBP_train_histogram, y_train)\n",
    "\n",
    "# Predict and evaluate\n",
    "y_pred = knn.predict(LBP_test_histogram)\n",
    "accuracy = accuracy_score(y_test, y_pred)\n",
    "\n",
    "print(f\"Accuracy: {accuracy * 100:.2f}%\")\n"
   ]
  },
  {
   "cell_type": "code",
   "execution_count": 7,
   "metadata": {},
   "outputs": [
    {
     "name": "stdout",
     "output_type": "stream",
     "text": [
      "Test Accuracy: 0.6006181464075533\n"
     ]
    }
   ],
   "source": [
    "from sklearn.svm import SVC\n",
    "from sklearn.metrics import accuracy_score\n",
    "\n",
    "svm_model = SVC(kernel='linear', C=1.0, random_state=42)\n",
    "svm_model.fit(LBP_train_histogram, label_train)\n",
    "\n",
    "\n",
    "y_test_pred = svm_model.predict(LBP_test_histogram)\n",
    "print(\"Test Accuracy:\", accuracy_score(label_test, y_test_pred))"
   ]
  },
  {
   "cell_type": "code",
   "execution_count": 14,
   "metadata": {},
   "outputs": [],
   "source": [
    "def k_means(data, k, max_iters=10000, tol=1e-6):\n",
    "    \n",
    "    n_samples, _ = data.shape\n",
    "    centroids = data[np.random.choice(n_samples, k, replace=False)]\n",
    "    \n",
    "    for i in range(max_iters):\n",
    "        distances = np.linalg.norm(data[:, None, :] - centroids[None, :, :], axis=2)\n",
    "        labels = np.argmin(distances, axis=1)\n",
    "        \n",
    "        new_centroids = np.array([data[labels == i].mean(axis=0) for i in range(k)])\n",
    "        error=np.linalg.norm(new_centroids - centroids)\n",
    "\n",
    "        if error < tol:\n",
    "            print(error)\n",
    "            break\n",
    "        \n",
    "        centroids = new_centroids\n",
    "\n",
    "    return labels, centroids\n",
    "\n",
    "\n",
    "def calculate_cluster_labels(labels_train, label_train, k):\n",
    "    cluster_labels = np.empty(k, dtype=object)  # Use dtype=object for non-numeric labels\n",
    "\n",
    "    for i in range(k):\n",
    "        cluster_indices = np.where(labels_train == i)[0]\n",
    "        true_labels = label_train[cluster_indices].flatten()\n",
    "\n",
    "        if len(true_labels) > 0: \n",
    "            unique_labels, counts = np.unique(true_labels, return_counts=True)\n",
    "            cluster_labels[i] = unique_labels[np.argmax(counts)]\n",
    "\n",
    "    # Map each data point's cluster to its corresponding label\n",
    "    predicted_labels = np.array([cluster_labels[label] for label in labels_train])\n",
    "\n",
    "    # Calculate accuracy\n",
    "    accuracy = np.mean(predicted_labels.flatten() == label_train.flatten())\n",
    "    \n",
    "    return cluster_labels, predicted_labels, accuracy\n",
    "\n",
    "def predict(test_data, centroids):\n",
    "    distances = np.linalg.norm(test_data[:, None, :] - centroids[None, :, :], axis=2)\n",
    "    return np.argmin(distances, axis=1)\n"
   ]
  },
  {
   "cell_type": "code",
   "execution_count": 15,
   "metadata": {},
   "outputs": [
    {
     "name": "stdout",
     "output_type": "stream",
     "text": [
      "0.0\n"
     ]
    }
   ],
   "source": [
    "# Run K-Means clustering on the training histograms\n",
    "k = 141  # Number of clusters\n",
    "labels_train, centroids = k_means(LBP_train_histogram, k)"
   ]
  },
  {
   "cell_type": "code",
   "execution_count": 13,
   "metadata": {},
   "outputs": [
    {
     "name": "stdout",
     "output_type": "stream",
     "text": [
      "Accuracy: 42.89%\n"
     ]
    }
   ],
   "source": [
    "cluster_labels, predicted_labels, accuracy = calculate_cluster_labels(labels_train, label_train, k)\n",
    "print(f'Accuracy: {accuracy * 100:.2f}%')"
   ]
  }
 ],
 "metadata": {
  "kernelspec": {
   "display_name": "Python 3",
   "language": "python",
   "name": "python3"
  },
  "language_info": {
   "codemirror_mode": {
    "name": "ipython",
    "version": 3
   },
   "file_extension": ".py",
   "mimetype": "text/x-python",
   "name": "python",
   "nbconvert_exporter": "python",
   "pygments_lexer": "ipython3",
   "version": "3.10.0"
  }
 },
 "nbformat": 4,
 "nbformat_minor": 2
}
