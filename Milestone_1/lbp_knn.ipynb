{
 "cells": [
  {
   "cell_type": "code",
   "execution_count": 1,
   "metadata": {},
   "outputs": [],
   "source": [
    "import cv2 as cv\n",
    "import numpy as np\n",
    "import time\n",
    "from skimage.feature import local_binary_pattern\n",
    "from scipy.stats import mode"
   ]
  },
  {
   "cell_type": "code",
   "execution_count": 3,
   "metadata": {},
   "outputs": [],
   "source": [
    "image_train=np.load(\"E:/1-Collage/3-Senior-2/CV/Project/data_set/image_train.npy\")\n",
    "label_train=np.load(\"E:/1-Collage/3-Senior-2/CV/Project/data_set/label_train.npy\")\n",
    "image_test=np.load(\"E:/1-Collage/3-Senior-2/CV/Project/data_set/image_test.npy\")\n",
    "label_test=np.load(\"E:/1-Collage/3-Senior-2/CV/Project/data_set/label_test.npy\")"
   ]
  },
  {
   "cell_type": "code",
   "execution_count": 4,
   "metadata": {},
   "outputs": [],
   "source": [
    "radius = 1\n",
    "n_points = 8 * radius\n",
    "method = 'uniform'\n",
    "\n",
    "LBP_train = [\n",
    "    local_binary_pattern(cv.cvtColor(img, cv.COLOR_RGB2GRAY), n_points, radius, method)\n",
    "    for img in image_train\n",
    "]\n",
    "LBP_test = [\n",
    "    local_binary_pattern(cv.cvtColor(img, cv.COLOR_RGB2GRAY), n_points, radius, method)\n",
    "    for img in image_test\n",
    "]"
   ]
  },
  {
   "cell_type": "code",
   "execution_count": 5,
   "metadata": {},
   "outputs": [],
   "source": [
    "n_bins = n_points + 2\n",
    "LBP_train_histogram = np.array([\n",
    "    cv.calcHist([lbp.astype('float32')], [0], None, [n_bins], [0, n_bins]).flatten()\n",
    "    for lbp in LBP_train\n",
    "])\n",
    "LBP_test_histogram = np.array([\n",
    "    cv.calcHist([lbp.astype('float32')], [0], None, [n_bins], [0, n_bins]).flatten()\n",
    "    for lbp in LBP_test\n",
    "])\n",
    "\n",
    "LBP_all=np.concatenate((LBP_train_histogram,LBP_test_histogram),axis=0)\n",
    "mean = np.mean(LBP_all, axis=0)\n",
    "std = np.std(LBP_all, axis=0)\n",
    "\n",
    "LBP_train_histogram = (LBP_train_histogram - mean) / std\n",
    "LBP_test_histogram = (LBP_test_histogram - mean) / std\n",
    "\n",
    "\n",
    "y_train = label_train.flatten()\n",
    "y_test = label_test.flatten()"
   ]
  },
  {
   "cell_type": "code",
   "execution_count": 6,
   "metadata": {},
   "outputs": [
    {
     "name": "stdout",
     "output_type": "stream",
     "text": [
      "Accuracy: 58.79%\n"
     ]
    }
   ],
   "source": [
    "def knn_predict(X_train, y_train, X_test, k=3):\n",
    "    predictions = []\n",
    "    for x_test in X_test:\n",
    "        # Compute distances to all training points\n",
    "        distances = np.linalg.norm(X_train - x_test, axis=1)\n",
    "\n",
    "        # Find the k nearest neighbors\n",
    "        k_indices = np.argsort(distances)[:k]\n",
    "        k_labels = y_train[k_indices]\n",
    "\n",
    "        # Determine the most common label\n",
    "        unique_labels, counts = np.unique(k_labels, return_counts=True)\n",
    "        most_common = unique_labels[np.argmax(counts)]\n",
    "        \n",
    "        predictions.append(most_common)\n",
    "\n",
    "    return np.array(predictions)\n",
    "\n",
    "\n",
    "k = 1  # Number of neighbors\n",
    "start_time = time.time()\n",
    "\n",
    "y_pred = knn_predict(LBP_train_histogram, y_train, LBP_test_histogram[:50000], k=k)  # Use a subset of test data for speed\n",
    "\n",
    "accuracy = np.mean(y_pred == y_test[:50000])  # Match the subset size\n",
    "print(f\"Accuracy: {accuracy * 100:.2f}%\")"
   ]
  },
  {
   "cell_type": "code",
   "execution_count": 15,
   "metadata": {},
   "outputs": [
    {
     "name": "stdout",
     "output_type": "stream",
     "text": [
      "Prediction: Apple Red 2\n"
     ]
    }
   ],
   "source": [
    "print(f\"Prediction: {y_pred[6500]}\")"
   ]
  },
  {
   "cell_type": "code",
   "execution_count": 16,
   "metadata": {},
   "outputs": [
    {
     "name": "stdout",
     "output_type": "stream",
     "text": [
      "Prediction: Corn 1\n"
     ]
    }
   ],
   "source": [
    "print(f\"Prediction: {y_test[6500]}\")"
   ]
  },
  {
   "cell_type": "code",
   "execution_count": null,
   "metadata": {},
   "outputs": [],
   "source": []
  }
 ],
 "metadata": {
  "kernelspec": {
   "display_name": "Python 3",
   "language": "python",
   "name": "python3"
  },
  "language_info": {
   "codemirror_mode": {
    "name": "ipython",
    "version": 3
   },
   "file_extension": ".py",
   "mimetype": "text/x-python",
   "name": "python",
   "nbconvert_exporter": "python",
   "pygments_lexer": "ipython3",
   "version": "3.10.0"
  }
 },
 "nbformat": 4,
 "nbformat_minor": 2
}
