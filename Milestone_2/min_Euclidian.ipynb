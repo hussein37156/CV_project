{
 "cells": [
  {
   "cell_type": "code",
   "execution_count": 1,
   "metadata": {},
   "outputs": [],
   "source": [
    "import numpy as np"
   ]
  },
  {
   "cell_type": "code",
   "execution_count": null,
   "metadata": {},
   "outputs": [],
   "source": [
    "def centroids(train,labels):\n",
    "    centroids = []\n",
    "    unique_labels = np.unique(labels)\n",
    "    for label in unique_labels:\n",
    "        indices = np.where(labels == label)\n",
    "        class_cnetroid = np.mean(train[indices], axis=0)\n",
    "        centroids.append(class_cnetroid)\n",
    "    return np.array(centroids), unique_labels\n",
    "\n",
    "def predict(test, centroids, unique_labels):\n",
    "    predictions = []\n",
    "    for sample in test:\n",
    "        distances = np.linalg.norm(centroids - sample, axis=1)\n",
    "        predictions.append(unique_labels[np.argmin(distances)])\n",
    "    return np.array(predictions)\n",
    "\n",
    "def accuracy(predictions, labels):\n",
    "    return np.mean(predictions == labels)"
   ]
  }
 ],
 "metadata": {
  "kernelspec": {
   "display_name": "Python 3",
   "language": "python",
   "name": "python3"
  },
  "language_info": {
   "codemirror_mode": {
    "name": "ipython",
    "version": 3
   },
   "file_extension": ".py",
   "mimetype": "text/x-python",
   "name": "python",
   "nbconvert_exporter": "python",
   "pygments_lexer": "ipython3",
   "version": "3.10.0"
  }
 },
 "nbformat": 4,
 "nbformat_minor": 2
}
